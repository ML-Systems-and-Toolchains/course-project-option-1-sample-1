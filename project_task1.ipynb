{
 "cells": [
  {
   "cell_type": "code",
   "execution_count": 3,
   "metadata": {},
   "outputs": [
    {
     "name": "stdout",
     "output_type": "stream",
     "text": [
      "['data/players_22.csv', 'data/players_21.csv', 'data/players_20.csv', 'data/players_18.csv', 'data/players_19.csv', 'data/players_17.csv', 'data/players_16.csv', 'data/players_15.csv']\n"
     ]
    },
    {
     "name": "stderr",
     "output_type": "stream",
     "text": [
      "Setting default log level to \"WARN\".\n",
      "To adjust logging level use sc.setLogLevel(newLevel). For SparkR, use setLogLevel(newLevel).\n"
     ]
    },
    {
     "name": "stdout",
     "output_type": "stream",
     "text": [
      "22/10/19 23:50:17 WARN NativeCodeLoader: Unable to load native-hadoop library for your platform... using builtin-java classes where applicable\n",
      "22/10/19 23:50:18 WARN Utils: Service 'SparkUI' could not bind on port 4040. Attempting port 4041.\n"
     ]
    },
    {
     "name": "stderr",
     "output_type": "stream",
     "text": [
      "                                                                                \r"
     ]
    },
    {
     "name": "stdout",
     "output_type": "stream",
     "text": [
      "22/10/19 23:50:30 WARN package: Truncated the string representation of a plan since it was too large. This behavior can be adjusted by setting 'spark.sql.debug.maxToStringFields'.\n",
      "+---------+--------------------+-----------------+--------------------+----------------+-------+---------+---------+--------+---+-------------------+---------+---------+------------+-------------------+--------------------+------------+-------------+------------------+----------------+-------------------+-------------------------+--------------+----------------+--------------+---------------+--------------------+--------------+---------+-----------+------------------------+-------------+----------------+---------+------------------+--------------------+--------------------+----+--------+-------+---------+---------+------+------------------+-------------------+--------------------------+-----------------------+-----------------+---------------+-----------+-----------------+------------------+------------------+---------------------+---------------------+----------------+------------------+----------------+----------------+-------------+-------------+--------------+----------------+--------------------+-----------------------+---------------------+----------------+-------------------+-------------------+---------------------------+-------------------------+------------------------+------------------+--------------------+-------------------+-----------------------+--------------------+-----------------+----+----+----+---+---+---+---+---+----+----+----+----+----+----+----+----+----+----+----+----+----+----+----+----+----+----+----+--------------------+--------------------+--------------------+--------------------+--------------------+----+\n",
      "|sofifa_id|          player_url|       short_name|           long_name|player_positions|overall|potential|value_eur|wage_eur|age|                dob|height_cm|weight_kg|club_team_id|          club_name|         league_name|league_level|club_position|club_jersey_number|club_loaned_from|        club_joined|club_contract_valid_until|nationality_id|nationality_name|nation_team_id|nation_position|nation_jersey_number|preferred_foot|weak_foot|skill_moves|international_reputation|    work_rate|       body_type|real_face|release_clause_eur|         player_tags|       player_traits|pace|shooting|passing|dribbling|defending|physic|attacking_crossing|attacking_finishing|attacking_heading_accuracy|attacking_short_passing|attacking_volleys|skill_dribbling|skill_curve|skill_fk_accuracy|skill_long_passing|skill_ball_control|movement_acceleration|movement_sprint_speed|movement_agility|movement_reactions|movement_balance|power_shot_power|power_jumping|power_stamina|power_strength|power_long_shots|mentality_aggression|mentality_interceptions|mentality_positioning|mentality_vision|mentality_penalties|mentality_composure|defending_marking_awareness|defending_standing_tackle|defending_sliding_tackle|goalkeeping_diving|goalkeeping_handling|goalkeeping_kicking|goalkeeping_positioning|goalkeeping_reflexes|goalkeeping_speed|  ls|  st|  rs| lw| lf| cf| rf| rw| lam| cam| ram|  lm| lcm|  cm| rcm|  rm| lwb| ldm| cdm| rdm| rwb|  lb| lcb|  cb| rcb|  rb|  gk|     player_face_url|       club_logo_url|       club_flag_url|     nation_logo_url|     nation_flag_url|year|\n",
      "+---------+--------------------+-----------------+--------------------+----------------+-------+---------+---------+--------+---+-------------------+---------+---------+------------+-------------------+--------------------+------------+-------------+------------------+----------------+-------------------+-------------------------+--------------+----------------+--------------+---------------+--------------------+--------------+---------+-----------+------------------------+-------------+----------------+---------+------------------+--------------------+--------------------+----+--------+-------+---------+---------+------+------------------+-------------------+--------------------------+-----------------------+-----------------+---------------+-----------+-----------------+------------------+------------------+---------------------+---------------------+----------------+------------------+----------------+----------------+-------------+-------------+--------------+----------------+--------------------+-----------------------+---------------------+----------------+-------------------+-------------------+---------------------------+-------------------------+------------------------+------------------+--------------------+-------------------+-----------------------+--------------------+-----------------+----+----+----+---+---+---+---+---+----+----+----+----+----+----+----+----+----+----+----+----+----+----+----+----+----+----+----+--------------------+--------------------+--------------------+--------------------+--------------------+----+\n",
      "|   158023|https://sofifa.co...|         L. Messi|Lionel Andrés Mes...|      RW, ST, CF|     93|       93|    7.8E7|320000.0| 34|1987-06-24 00:00:00|      170|       72|        73.0|Paris Saint-Germain|      French Ligue 1|           1|           RW|                30|            null|2021-08-10 00:00:00|                     2023|            52|       Argentina|        1369.0|             RW|                  10|          Left|        4|          4|                       5|   Medium/Low|          Unique|      Yes|         144300000|#Dribbler, #Dista...|Finesse Shot, Lon...|  85|      92|     91|       95|       34|    65|                85|                 95|                        70|                     91|               88|             96|         93|               94|                91|                96|                   91|                   80|              91|                94|              95|              86|           68|           72|            69|              94|                  44|                     40|                   93|              95|                 75|                 96|                         20|                       35|                      24|                 6|                  11|                 15|                     14|                   8|             null|89+3|89+3|89+3| 92| 93| 93| 93| 92|  93|  93|  93|91+2|87+3|87+3|87+3|91+2|66+3|64+3|64+3|64+3|66+3|61+3|50+3|50+3|50+3|61+3|19+3|https://cdn.sofif...|https://cdn.sofif...|https://cdn.sofif...|https://cdn.sofif...|https://cdn.sofif...|2022|\n",
      "|   188545|https://sofifa.co...|   R. Lewandowski|  Robert Lewandowski|              ST|     92|       92|  1.195E8|270000.0| 32|1988-08-21 00:00:00|      185|       81|        21.0|  FC Bayern München|German 1. Bundesliga|           1|           ST|                 9|            null|2014-07-01 00:00:00|                     2023|            37|          Poland|        1353.0|             RS|                   9|         Right|        4|          4|                       5|  High/Medium|          Unique|      Yes|         197200000|#Aerial Threat, #...|Solid Player, Fin...|  78|      92|     79|       86|       44|    82|                71|                 95|                        90|                     85|               89|             85|         79|               85|                70|                88|                   77|                   79|              77|                93|              82|              90|           85|           76|            86|              87|                  81|                     49|                   95|              81|                 90|                 88|                         35|                       42|                      19|                15|                   6|                 12|                      8|                  10|             null|90+2|90+2|90+2| 85| 88| 88| 88| 85|86+3|86+3|86+3|84+3|80+3|80+3|80+3|84+3|64+3|66+3|66+3|66+3|64+3|61+3|60+3|60+3|60+3|61+3|19+3|https://cdn.sofif...|https://cdn.sofif...|https://cdn.sofif...|https://cdn.sofif...|https://cdn.sofif...|2022|\n",
      "|    20801|https://sofifa.co...|Cristiano Ronaldo|Cristiano Ronaldo...|          ST, LW|     91|       91|    4.5E7|270000.0| 36|1985-02-05 00:00:00|      187|       83|        11.0|  Manchester United|English Premier L...|           1|           ST|                 7|            null|2021-08-27 00:00:00|                     2023|            38|        Portugal|        1354.0|             ST|                   7|         Right|        4|          5|                       5|     High/Low|          Unique|      Yes|          83300000|#Aerial Threat, #...|Power Free-Kick, ...|  87|      94|     80|       88|       34|    75|                87|                 95|                        90|                     80|               86|             88|         81|               84|                77|                88|                   85|                   88|              86|                94|              74|              94|           95|           77|            77|              93|                  63|                     29|                   95|              76|                 88|                 95|                         24|                       32|                      24|                 7|                  11|                 15|                     14|                  11|             null|90+1|90+1|90+1| 88| 89| 89| 89| 88|86+3|86+3|86+3|86+3|78+3|78+3|78+3|86+3|63+3|59+3|59+3|59+3|63+3|60+3|53+3|53+3|53+3|60+3|20+3|https://cdn.sofif...|https://cdn.sofif...|https://cdn.sofif...|https://cdn.sofif...|https://cdn.sofif...|2022|\n",
      "|   190871|https://sofifa.co...|        Neymar Jr|Neymar da Silva S...|         LW, CAM|     91|       91|   1.29E8|270000.0| 29|1992-02-05 00:00:00|      175|       68|        73.0|Paris Saint-Germain|      French Ligue 1|           1|           LW|                10|            null|2017-08-03 00:00:00|                     2025|            54|          Brazil|          null|           null|                null|         Right|        5|          5|                       5|  High/Medium|          Unique|      Yes|         238700000|#Speedster, #Drib...|Injury Prone, Fla...|  91|      83|     86|       94|       37|    63|                85|                 83|                        63|                     86|               86|             95|         88|               87|                81|                95|                   93|                   89|              96|                89|              84|              80|           64|           81|            53|              81|                  63|                     37|                   86|              90|                 93|                 93|                         35|                       32|                      29|                 9|                   9|                 15|                     15|                  11|             null|83+3|83+3|83+3| 90| 88| 88| 88| 90|89+2|89+2|89+2|89+2|82+3|82+3|82+3|89+2|67+3|63+3|63+3|63+3|67+3|62+3|50+3|50+3|50+3|62+3|20+3|https://cdn.sofif...|https://cdn.sofif...|https://cdn.sofif...|                null|https://cdn.sofif...|2022|\n",
      "|   192985|https://sofifa.co...|     K. De Bruyne|     Kevin De Bruyne|         CM, CAM|     91|       91|  1.255E8|350000.0| 30|1991-06-28 00:00:00|      181|       70|        10.0|    Manchester City|English Premier L...|           1|          RCM|                17|            null|2015-08-30 00:00:00|                     2025|             7|         Belgium|        1325.0|            RCM|                   7|         Right|        5|          4|                       4|    High/High|          Unique|      Yes|         232200000|#Dribbler, #Playm...|Injury Prone, Lea...|  76|      86|     93|       88|       64|    78|                94|                 82|                        55|                     94|               82|             88|         85|               83|                93|                91|                   76|                   76|              79|                91|              78|              91|           63|           89|            74|              91|                  76|                     66|                   88|              94|                 83|                 89|                         68|                       65|                      53|                15|                  13|                  5|                     10|                  13|             null|83+3|83+3|83+3| 88| 87| 87| 87| 88|89+2|89+2|89+2|89+2|89+2|89+2|89+2|89+2|79+3|80+3|80+3|80+3|79+3|75+3|69+3|69+3|69+3|75+3|21+3|https://cdn.sofif...|https://cdn.sofif...|https://cdn.sofif...|https://cdn.sofif...|https://cdn.sofif...|2022|\n",
      "|   200389|https://sofifa.co...|         J. Oblak|           Jan Oblak|              GK|     91|       93|   1.12E8|130000.0| 28|1993-01-07 00:00:00|      188|       87|       240.0| Atlético de Madrid|Spain Primera Div...|           1|           GK|                13|            null|2014-07-16 00:00:00|                     2023|            44|        Slovenia|          null|           null|                null|         Right|        3|          1|                       5|Medium/Medium|          Unique|      Yes|         238000000|                null|GK Long Throw, Co...|null|    null|   null|     null|     null|  null|                13|                 11|                        15|                     43|               13|             12|         13|               14|                40|                30|                   43|                   60|              67|                88|              49|              59|           78|           41|            78|              12|                  34|                     19|                   11|              65|                 11|                 68|                         27|                       12|                      18|                87|                  92|                 78|                     90|                  90|               50|33+3|33+3|33+3| 32| 35| 35| 35| 32|38+3|38+3|38+3|35+3|38+3|38+3|38+3|35+3|32+3|36+3|36+3|36+3|32+3|32+3|33+3|33+3|33+3|32+3|89+3|https://cdn.sofif...|https://cdn.sofif...|https://cdn.sofif...|                null|https://cdn.sofif...|2022|\n",
      "|   231747|https://sofifa.co...|        K. Mbappé|Kylian Mbappé Lottin|          ST, LW|     91|       95|   1.94E8|230000.0| 22|1998-12-20 00:00:00|      182|       73|        73.0|Paris Saint-Germain|      French Ligue 1|           1|           ST|                 7|            null|2018-07-01 00:00:00|                     2022|            18|          France|        1335.0|             LW|                  10|         Right|        4|          5|                       4|     High/Low|          Unique|      Yes|         373500000|#Speedster, #Drib...|Flair, Speed Drib...|  97|      88|     80|       92|       36|    77|                78|                 93|                        72|                     85|               83|             93|         80|               69|                71|                91|                   97|                   97|              92|                93|              83|              86|           78|           88|            77|              82|                  62|                     38|                   92|              82|                 79|                 88|                         26|                       34|                      32|                13|                   5|                  7|                     11|                   6|             null|89+3|89+3|89+3| 90| 90| 90| 90| 90|89+3|89+3|89+3|89+3|81+3|81+3|81+3|89+3|67+3|63+3|63+3|63+3|67+3|63+3|54+3|54+3|54+3|63+3|18+3|https://cdn.sofif...|https://cdn.sofif...|https://cdn.sofif...|https://cdn.sofif...|https://cdn.sofif...|2022|\n",
      "|   167495|https://sofifa.co...|         M. Neuer|  Manuel Peter Neuer|              GK|     90|       90|   1.35E7| 86000.0| 35|1986-03-27 00:00:00|      193|       93|        21.0|  FC Bayern München|German 1. Bundesliga|           1|           GK|                 1|            null|2011-07-01 00:00:00|                     2023|            21|         Germany|        1337.0|             GK|                   1|         Right|        4|          1|                       5|Medium/Medium|          Unique|      Yes|          22300000|                null|Leadership, GK Lo...|null|    null|   null|     null|     null|  null|                15|                 13|                        25|                     60|               11|             30|         14|               11|                68|                46|                   54|                   60|              51|                87|              35|              68|           77|           43|            80|              16|                  29|                     30|                   12|              70|                 47|                 70|                         17|                       10|                      11|                88|                  88|                 91|                     89|                  88|               56|40+3|40+3|40+3| 40| 43| 43| 43| 40|47+3|47+3|47+3|44+3|50+3|50+3|50+3|44+3|37+3|43+3|43+3|43+3|37+3|35+3|34+3|34+3|34+3|35+3|88+2|https://cdn.sofif...|https://cdn.sofif...|https://cdn.sofif...|https://cdn.sofif...|https://cdn.sofif...|2022|\n",
      "|   192448|https://sofifa.co...|    M. ter Stegen|Marc-André ter St...|              GK|     90|       92|    9.9E7|250000.0| 29|1992-04-30 00:00:00|      187|       85|       241.0|       FC Barcelona|Spain Primera Div...|           1|           GK|                 1|            null|2014-07-01 00:00:00|                     2025|            21|         Germany|          null|           null|                null|         Right|        4|          1|                       4|Medium/Medium|          Unique|      Yes|         210400000|                null|Rushes Out Of Goa...|null|    null|   null|     null|     null|  null|                18|                 14|                        11|                     61|               14|             21|         18|               12|                63|                30|                   38|                   50|              39|                86|              43|              66|           79|           35|            78|              10|                  43|                     22|                   11|              70|                 25|                 70|                         25|                       13|                      10|                88|                  85|                 88|                     88|                  90|               43|35+3|35+3|35+3| 35| 38| 38| 38| 35|42+3|42+3|42+3|39+3|45+3|45+3|45+3|39+3|33+3|41+3|41+3|41+3|33+3|31+3|33+3|33+3|33+3|31+3|88+3|https://cdn.sofif...|https://cdn.sofif...|https://cdn.sofif...|                null|https://cdn.sofif...|2022|\n",
      "|   202126|https://sofifa.co...|          H. Kane|          Harry Kane|              ST|     90|       90|  1.295E8|240000.0| 27|1993-07-28 00:00:00|      188|       89|        18.0|  Tottenham Hotspur|English Premier L...|           1|           ST|                10|            null|2010-07-28 00:00:00|                     2024|            14|         England|        1318.0|             ST|                   9|         Right|        5|          3|                       4|    High/High|          Unique|      Yes|         246100000|#Distance Shooter...|Leadership, Long ...|  70|      91|     83|       83|       47|    83|                80|                 94|                        86|                     85|               88|             83|         83|               65|                86|                85|                   65|                   74|              71|                92|              70|              91|           79|           83|            85|              86|                  80|                     44|                   94|              87|                 91|                 91|                         50|                       36|                      38|                 8|                  10|                 11|                     14|                  11|             null|88+2|88+2|88+2| 84| 86| 86| 86| 84|85+3|85+3|85+3|84+3|82+3|82+3|82+3|84+3|67+3|68+3|68+3|68+3|67+3|64+3|61+3|61+3|61+3|64+3|20+3|https://cdn.sofif...|https://cdn.sofif...|https://cdn.sofif...|https://cdn.sofif...|https://cdn.sofif...|2022|\n",
      "|   215914|https://sofifa.co...|         N. Kanté|        N'Golo Kanté|         CDM, CM|     90|       90|    1.0E8|230000.0| 30|1991-03-29 00:00:00|      168|       70|         5.0|            Chelsea|English Premier L...|           1|          RCM|                 7|            null|2016-07-16 00:00:00|                     2023|            18|          France|        1335.0|            CDM|                  13|         Right|        3|          2|                       4|  Medium/High|          Unique|      Yes|         185000000|#Tackling, #Tacti...|          Leadership|  78|      66|     75|       82|       87|    83|                68|                 65|                        54|                     82|               56|             79|         49|               49|                79|                81|                   82|                   75|              82|                93|              92|              71|           77|           97|            72|              65|                  93|                     91|                   72|              78|                 54|                 84|                         90|                       93|                      86|                15|                  12|                 10|                      7|                  10|             null|72+3|72+3|72+3| 77| 77| 77| 77| 77|78+3|78+3|78+3|79+3|82+3|82+3|82+3|79+3|85+3|87+3|87+3|87+3|85+3|85+3|84+3|84+3|84+3|85+3|20+3|https://cdn.sofif...|https://cdn.sofif...|https://cdn.sofif...|https://cdn.sofif...|https://cdn.sofif...|2022|\n",
      "|   165153|https://sofifa.co...|       K. Benzema|       Karim Benzema|          CF, ST|     89|       89|    6.6E7|350000.0| 33|1987-12-19 00:00:00|      185|       81|       243.0|     Real Madrid CF|Spain Primera Div...|           1|           CF|                 9|            null|2009-07-09 00:00:00|                     2023|            18|          France|        1335.0|             CF|                  19|         Right|        4|          4|                       4|Medium/Medium|Normal (170-185)|      Yes|         135300000|            #Poacher|Leadership, Fines...|  76|      86|     81|       87|       39|    77|                75|                 90|                        89|                     86|               86|             87|         81|               73|                73|                90|                   77|                   75|              79|                91|              72|              85|           79|           78|            82|              79|                  63|                     39|                   90|              87|                 84|                 90|                         43|                       24|                      18|                13|                  11|                  5|                      5|                   7|             null|87+2|87+2|87+2| 85| 87| 87| 87| 85|86+3|86+3|86+3|84+3|80+3|80+3|80+3|84+3|63+3|62+3|62+3|62+3|63+3|59+3|55+3|55+3|55+3|59+3|18+3|https://cdn.sofif...|https://cdn.sofif...|https://cdn.sofif...|https://cdn.sofif...|https://cdn.sofif...|2022|\n",
      "|   192119|https://sofifa.co...|      T. Courtois|    Thibaut Courtois|              GK|     89|       91|   8.55E7|250000.0| 29|1992-05-11 00:00:00|      199|       96|       243.0|     Real Madrid CF|Spain Primera Div...|           1|           GK|                 1|            null|2018-08-09 00:00:00|                     2026|             7|         Belgium|        1325.0|             GK|                   1|          Left|        3|          1|                       4|Medium/Medium|          Unique|      Yes|         181700000|                null|GK Long Throw, Co...|null|    null|   null|     null|     null|  null|                14|                 14|                        13|                     33|               12|             13|         19|               20|                35|                23|                   42|                   52|              62|                84|              45|              56|           68|           38|            70|              17|                  23|                     15|                   13|              44|                 27|                 66|                         20|                       18|                      16|                84|                  89|                 74|                     86|                  88|               46|31+3|31+3|31+3| 29| 31| 31| 31| 29|32+3|32+3|32+3|31+3|32+3|32+3|32+3|31+3|29+3|31+3|31+3|31+3|29+3|29+3|29+3|29+3|29+3|29+3|86+3|https://cdn.sofif...|https://cdn.sofif...|https://cdn.sofif...|https://cdn.sofif...|https://cdn.sofif...|2022|\n",
      "|   200104|https://sofifa.co...|           H. Son|       손흥민 孙兴慜|      LM, CF, LW|     89|       89|   1.04E8|220000.0| 28|1992-07-08 00:00:00|      183|       78|        18.0|  Tottenham Hotspur|English Premier L...|           1|           LW|                 7|            null|2015-08-28 00:00:00|                     2025|           167|  Korea Republic|          null|           null|                null|         Right|        5|          4|                       4|    High/High|          Unique|      Yes|         197600000|#Dribbler, #Engin...|Solid Player, Fin...|  88|      87|     82|       86|       43|    69|                83|                 88|                        68|                     84|               78|             87|         85|               74|                74|                84|                   85|                   90|              86|                91|              78|              88|           60|           88|            64|              89|                  62|                     39|                   91|              83|                 73|                 89|                         50|                       34|                      33|                11|                  13|                 13|                      6|                  10|             null|85+3|85+3|85+3| 87| 87| 87| 87| 87|86+3|86+3|86+3|86+3|80+3|80+3|80+3|86+3|68+3|64+3|64+3|64+3|68+3|64+3|54+3|54+3|54+3|64+3|19+3|https://cdn.sofif...|https://cdn.sofif...|https://cdn.sofif...|                null|https://cdn.sofif...|2022|\n",
      "|   200145|https://sofifa.co...|         Casemiro|Carlos Henrique V...|             CDM|     89|       89|    8.8E7|310000.0| 29|1992-02-23 00:00:00|      185|       84|       243.0|     Real Madrid CF|Spain Primera Div...|           1|          CDM|                14|            null|2013-07-11 00:00:00|                     2025|            54|          Brazil|          null|           null|                null|         Right|        3|          2|                       3|    High/High|          Unique|      Yes|         180400000|#Engine, #Tacklin...|Power Free-Kick, ...|  65|      73|     76|       73|       86|    90|                58|                 64|                        79|                     84|               62|             69|         62|               74|                84|                79|                   60|                   69|              61|                87|              66|              88|           87|           89|            90|              81|                  91|                     87|                   75|              80|                 66|                 84|                         85|                       88|                      87|                13|                  14|                 16|                     12|                  12|             null|76+3|76+3|76+3| 72| 76| 76| 76| 72|76+3|76+3|76+3|74+3|82+3|82+3|82+3|74+3|80+3|86+3|86+3|86+3|80+3|81+3|86+3|86+3|86+3|81+3|21+3|https://cdn.sofif...|https://cdn.sofif...|https://cdn.sofif...|                null|https://cdn.sofif...|2022|\n",
      "|   203376|https://sofifa.co...|      V. van Dijk|     Virgil van Dijk|              CB|     89|       89|    8.6E7|230000.0| 29|1991-07-08 00:00:00|      193|       92|         9.0|          Liverpool|English Premier L...|           1|          LCB|                 4|            null|2018-01-01 00:00:00|                     2025|            34|     Netherlands|      105035.0|            LCB|                   4|         Right|        3|          2|                       4|Medium/Medium|          Unique|      Yes|         159100000|#Tackling, #Tacti...|Leadership, Long ...|  78|      60|     71|       72|       91|    84|                53|                 52|                        87|                     79|               45|             70|         60|               70|                86|                76|                   66|                   88|              61|                87|              53|              81|           90|           69|            92|              64|                  83|                     90|                   47|              65|                 62|                 90|                         92|                       92|                      86|                13|                  10|                 13|                     11|                  11|             null|70+3|70+3|70+3| 67| 69| 69| 69| 67|70+3|70+3|70+3|70+3|75+3|75+3|75+3|70+3|79+3|84+3|84+3|84+3|79+3|81+3|88+1|88+1|88+1|81+3|20+3|https://cdn.sofif...|https://cdn.sofif...|https://cdn.sofif...|https://cdn.sofif...|https://cdn.sofif...|2022|\n",
      "|   208722|https://sofifa.co...|          S. Mané|          Sadio Mané|              LW|     89|       89|   1.01E8|270000.0| 29|1992-04-10 00:00:00|      175|       69|         9.0|          Liverpool|English Premier L...|           1|           LW|                10|            null|2016-07-01 00:00:00|                     2023|           136|         Senegal|          null|           null|                null|         Right|        4|          4|                       4|  High/Medium|          Unique|      Yes|         186900000|#Speedster, #Drib...|Flair, Speed Drib...|  91|      83|     80|       89|       44|    77|                78|                 86|                        84|                     84|               75|             90|         77|               64|                71|                88|                   93|                   90|              93|                91|              88|              83|           87|           85|            72|              80|                  75|                     35|                   90|              84|                 71|                 84|                         42|                       42|                      38|                10|                  10|                 15|                      7|                  14|             null|86+3|86+3|86+3| 87| 88| 88| 88| 87|87+2|87+2|87+2|86+3|80+3|80+3|80+3|86+3|68+3|65+3|65+3|65+3|68+3|65+3|59+3|59+3|59+3|65+3|19+3|https://cdn.sofif...|https://cdn.sofif...|https://cdn.sofif...|                null|https://cdn.sofif...|2022|\n",
      "|   209331|https://sofifa.co...|         M. Salah| Mohamed Salah Ghaly|              RW|     89|       89|   1.01E8|270000.0| 29|1992-06-15 00:00:00|      175|       71|         9.0|          Liverpool|English Premier L...|           1|           RW|                11|            null|2017-07-01 00:00:00|                     2023|           111|           Egypt|          null|           null|                null|          Left|        3|          4|                       4|  High/Medium|          Unique|      Yes|         186900000|#Speedster, #Drib...|Finesse Shot, Lon...|  90|      87|     81|       90|       45|    75|                79|                 91|                        59|                     84|               81|             90|         83|               69|                75|                89|                   89|                   91|              91|                92|              91|              82|           69|           85|            75|              84|                  63|                     55|                   91|              83|                 86|                 90|                         38|                       43|                      41|                14|                  14|                  9|                     11|                  14|             null|85+3|85+3|85+3| 88| 88| 88| 88| 88|87+2|87+2|87+2|87+2|82+3|82+3|82+3|87+2|71+3|68+3|68+3|68+3|71+3|67+3|58+3|58+3|58+3|67+3|22+3|https://cdn.sofif...|https://cdn.sofif...|https://cdn.sofif...|                null|https://cdn.sofif...|2022|\n",
      "|   210257|https://sofifa.co...|          Ederson|Ederson Santana d...|              GK|     89|       91|    9.4E7|200000.0| 27|1993-08-17 00:00:00|      188|       86|        10.0|    Manchester City|English Premier L...|           1|           GK|                31|            null|2017-07-01 00:00:00|                     2026|            54|          Brazil|          null|           null|                null|          Left|        3|          1|                       3|Medium/Medium|          Unique|      Yes|         181000000|                null|Long Passer (AI),...|null|    null|   null|     null|     null|  null|                20|                 14|                        14|                     61|               18|             23|         15|               20|                66|                40|                   64|                   63|              60|                88|              48|              70|           66|           41|            78|              18|                  38|                     27|                   20|              70|                 51|                 70|                         29|                       15|                       8|                87|                  82|                 93|                     88|                  88|               64|40+3|40+3|40+3| 41| 43| 43| 43| 41|47+3|47+3|47+3|44+3|49+3|49+3|49+3|44+3|37+3|44+3|44+3|44+3|37+3|36+3|35+3|35+3|35+3|36+3|87+3|https://cdn.sofif...|https://cdn.sofif...|https://cdn.sofif...|                null|https://cdn.sofif...|2022|\n",
      "|   212622|https://sofifa.co...|       J. Kimmich|Joshua Walter Kim...|         CDM, RB|     89|       90|   1.08E8|160000.0| 26|1995-02-08 00:00:00|      177|       75|        21.0|  FC Bayern München|German 1. Bundesliga|           1|          RDM|                 6|            null|2015-07-01 00:00:00|                     2025|            21|         Germany|        1337.0|            RDM|                   6|         Right|        4|          3|                       4|  High/Medium|  Lean (170-185)|      Yes|         186300000|            #Crosser|Leadership, Long ...|  70|      73|     86|       84|       83|    79|                91|                 68|                        72|                     87|               69|             83|         85|               61|                90|                85|                   77|                   65|              84|                88|              84|              78|           79|           94|            68|              84|                  89|                     84|                   80|              85|                 44|                 85|                         85|                       85|                      79|                 8|                  15|                  7|                     15|                  15|             null|77+3|77+3|77+3| 82| 81| 81| 81| 82|83+3|83+3|83+3|83+3|86+3|86+3|86+3|83+3|85+3|86+3|86+3|86+3|85+3|83+3|81+3|81+3|81+3|83+3|21+3|https://cdn.sofif...|https://cdn.sofif...|https://cdn.sofif...|https://cdn.sofif...|https://cdn.sofif...|2022|\n",
      "+---------+--------------------+-----------------+--------------------+----------------+-------+---------+---------+--------+---+-------------------+---------+---------+------------+-------------------+--------------------+------------+-------------+------------------+----------------+-------------------+-------------------------+--------------+----------------+--------------+---------------+--------------------+--------------+---------+-----------+------------------------+-------------+----------------+---------+------------------+--------------------+--------------------+----+--------+-------+---------+---------+------+------------------+-------------------+--------------------------+-----------------------+-----------------+---------------+-----------+-----------------+------------------+------------------+---------------------+---------------------+----------------+------------------+----------------+----------------+-------------+-------------+--------------+----------------+--------------------+-----------------------+---------------------+----------------+-------------------+-------------------+---------------------------+-------------------------+------------------------+------------------+--------------------+-------------------+-----------------------+--------------------+-----------------+----+----+----+---+---+---+---+---+----+----+----+----+----+----+----+----+----+----+----+----+----+----+----+----+----+----+----+--------------------+--------------------+--------------------+--------------------+--------------------+----+\n",
      "only showing top 20 rows\n",
      "\n"
     ]
    }
   ],
   "source": [
    "from pyspark.sql import SparkSession, SQLContext\n",
    "from pyspark.sql.functions import lit\n",
    "import os\n",
    "file_list = [f'data/{f}' for f in os.listdir('data')]\n",
    "print(file_list)\n",
    "spark = SparkSession.builder \\\n",
    "    .master(\"local[*]\") \\\n",
    "    .appName(\"GenericAppName\") \\\n",
    "    .getOrCreate()\n",
    "df = spark.read.csv(file_list[0], header=True, inferSchema=True)\n",
    "year = int('20' + file_list[0].split('_')[-1].split('.')[0])\n",
    "df = df.withColumn('year', lit(year))\n",
    "for file_path in file_list[1:]:\n",
    "    cur_df = spark.read.csv(file_path, header=True, inferSchema=True)\n",
    "    year = int('20' + file_path.split('_')[-1].split('.')[0])\n",
    "    cur_df = cur_df.withColumn('year', lit(year))\n",
    "    df = df.unionByName(cur_df)\n",
    "df.show()\n",
    "\n"
   ]
  },
  {
   "cell_type": "code",
   "execution_count": 4,
   "metadata": {},
   "outputs": [
    {
     "name": "stderr",
     "output_type": "stream",
     "text": [
      "                                                                                \r"
     ]
    }
   ],
   "source": [
    "db_properties = {}\n",
    "# update your db username\n",
    "db_properties['username'] = \"postgres\"\n",
    "# update your db password\n",
    "db_properties['password'] = \"root\"\n",
    "# make sure you got the right port number here\n",
    "db_properties['url'] = \"jdbc:postgresql://localhost:5432/postgres\"\n",
    "# make sure you had the Postgres JAR file in the right location\n",
    "db_properties['driver'] = \"org.postgresql.Driver\"\n",
    "db_properties['table'] = \"fifa\"\n",
    "\n",
    "df.write.format(\"jdbc\")\\\n",
    "    .mode(\"overwrite\")\\\n",
    "    .option(\"url\", db_properties['url'])\\\n",
    "    .option(\"dbtable\", db_properties['table'])\\\n",
    "    .option(\"user\", db_properties['username'])\\\n",
    "    .option(\"password\", db_properties['password'])\\\n",
    "    .option(\"Driver\", db_properties['driver'])\\\n",
    "    .save()\n"
   ]
  },
  {
   "cell_type": "code",
   "execution_count": 5,
   "metadata": {},
   "outputs": [
    {
     "name": "stderr",
     "output_type": "stream",
     "text": [
      "/Users/congtan/Desktop/2022Fall/18813/Project1/course-project-option-1-PenguinBoyTC/env/lib/python3.10/site-packages/pyspark/sql/context.py:112: FutureWarning: Deprecated in 3.0.0. Use SparkSession.builder.getOrCreate() instead.\n",
      "  warnings.warn(\n",
      "[Stage 18:>                                                         (0 + 1) / 1]\r"
     ]
    },
    {
     "name": "stdout",
     "output_type": "stream",
     "text": [
      "-RECORD 0-------------------------------------------\n",
      " sofifa_id                   | 244554               \n",
      " player_url                  | https://sofifa.co... \n",
      " short_name                  | J. Dodd              \n",
      " long_name                   | James Dodd           \n",
      " player_positions            | CM                   \n",
      " overall                     | 53                   \n",
      " potential                   | 66                   \n",
      " value_eur                   | 100000.0             \n",
      " wage_eur                    | 700.0                \n",
      " age                         | 18                   \n",
      " dob                         | 2000-10-27 00:00:00  \n",
      " height_cm                   | 178                  \n",
      " weight_kg                   | 66                   \n",
      " club_team_id                | 143.0                \n",
      " club_name                   | Exeter City          \n",
      " league_name                 | English League Two   \n",
      " league_level                | 4                    \n",
      " club_position               | RES                  \n",
      " club_jersey_number          | 36                   \n",
      " club_loaned_from            | null                 \n",
      " club_joined                 | 2018-07-01 00:00:00  \n",
      " club_contract_valid_until   | 2020                 \n",
      " nationality_id              | 14                   \n",
      " nationality_name            | England              \n",
      " nation_team_id              | null                 \n",
      " nation_position             | null                 \n",
      " nation_jersey_number        | null                 \n",
      " preferred_foot              | Right                \n",
      " weak_foot                   | 3                    \n",
      " skill_moves                 | 2                    \n",
      " international_reputation    | 1                    \n",
      " work_rate                   | Medium/Medium        \n",
      " body_type                   | Lean (170-185)       \n",
      " real_face                   | No                   \n",
      " release_clause_eur          | 238000               \n",
      " player_tags                 | null                 \n",
      " player_traits               | null                 \n",
      " pace                        | 69                   \n",
      " shooting                    | 42                   \n",
      " passing                     | 50                   \n",
      " dribbling                   | 55                   \n",
      " defending                   | 42                   \n",
      " physic                      | 51                   \n",
      " attacking_crossing          | 42                   \n",
      " attacking_finishing         | 41                   \n",
      " attacking_heading_accuracy  | 40                   \n",
      " attacking_short_passing     | 55                   \n",
      " attacking_volleys           | 37                   \n",
      " skill_dribbling             | 51                   \n",
      " skill_curve                 | 43                   \n",
      " skill_fk_accuracy           | 35                   \n",
      " skill_long_passing          | 54                   \n",
      " skill_ball_control          | 54                   \n",
      " movement_acceleration       | 68                   \n",
      " movement_sprint_speed       | 69                   \n",
      " movement_agility            | 71                   \n",
      " movement_reactions          | 51                   \n",
      " movement_balance            | 75                   \n",
      " power_shot_power            | 46                   \n",
      " power_jumping               | 71                   \n",
      " power_stamina               | 67                   \n",
      " power_strength              | 46                   \n",
      " power_long_shots            | 38                   \n",
      " mentality_aggression        | 36                   \n",
      " mentality_interceptions     | 40                   \n",
      " mentality_positioning       | 48                   \n",
      " mentality_vision            | 53                   \n",
      " mentality_penalties         | 49                   \n",
      " mentality_composure         | 56                   \n",
      " defending_marking_awareness | 41                   \n",
      " defending_standing_tackle   | 45                   \n",
      " defending_sliding_tackle    | 43                   \n",
      " goalkeeping_diving          | 14                   \n",
      " goalkeeping_handling        | 14                   \n",
      " goalkeeping_kicking         | 7                    \n",
      " goalkeeping_positioning     | 13                   \n",
      " goalkeeping_reflexes        | 12                   \n",
      " goalkeeping_speed           | null                 \n",
      " ls                          | 48+2                 \n",
      " st                          | 48+2                 \n",
      " rs                          | 48+2                 \n",
      " lw                          | 52                   \n",
      " lf                          | 51                   \n",
      " cf                          | 51                   \n",
      " rf                          | 51                   \n",
      " rw                          | 52                   \n",
      " lam                         | 53+2                 \n",
      " cam                         | 53+2                 \n",
      " ram                         | 53+2                 \n",
      " lm                          | 53+2                 \n",
      " lcm                         | 52+2                 \n",
      " cm                          | 52+2                 \n",
      " rcm                         | 52+2                 \n",
      " rm                          | 53+2                 \n",
      " lwb                         | 51+2                 \n",
      " ldm                         | 49+2                 \n",
      " cdm                         | 49+2                 \n",
      " rdm                         | 49+2                 \n",
      " rwb                         | 51+2                 \n",
      " lb                          | 50+2                 \n",
      " lcb                         | 45+2                 \n",
      " cb                          | 45+2                 \n",
      " rcb                         | 45+2                 \n",
      " rb                          | 50+2                 \n",
      " gk                          | 17+2                 \n",
      " player_face_url             | https://cdn.sofif... \n",
      " club_logo_url               | https://cdn.sofif... \n",
      " club_flag_url               | https://cdn.sofif... \n",
      " nation_logo_url             | null                 \n",
      " nation_flag_url             | https://cdn.sofif... \n",
      " year                        | 2020                 \n",
      "only showing top 1 row\n",
      "\n"
     ]
    },
    {
     "name": "stderr",
     "output_type": "stream",
     "text": [
      "                                                                                \r"
     ]
    }
   ],
   "source": [
    "from pyspark import SparkContext\n",
    "sc = SparkContext.getOrCreate()\n",
    "sqlContext = SQLContext(sc)\n",
    "\n",
    "df_read = sqlContext.read.format(\"jdbc\")\\\n",
    "    .option(\"url\", db_properties['url'])\\\n",
    "    .option(\"dbtable\", db_properties['table'])\\\n",
    "    .option(\"user\", db_properties['username'])\\\n",
    "    .option(\"password\", db_properties['password'])\\\n",
    "    .option(\"Driver\", db_properties['driver'])\\\n",
    "    .load()\n",
    "\n",
    "df_read.show(1, vertical=True)\n"
   ]
  }
 ],
 "metadata": {
  "kernelspec": {
   "display_name": "Python 3.10.3 ('env': venv)",
   "language": "python",
   "name": "python3"
  },
  "language_info": {
   "codemirror_mode": {
    "name": "ipython",
    "version": 3
   },
   "file_extension": ".py",
   "mimetype": "text/x-python",
   "name": "python",
   "nbconvert_exporter": "python",
   "pygments_lexer": "ipython3",
   "version": "3.10.3"
  },
  "orig_nbformat": 4,
  "vscode": {
   "interpreter": {
    "hash": "9fb4705aa72e7b1c6ccf795e6109b5505ec8ff6258ce36b342be3cf1bcc7738a"
   }
  }
 },
 "nbformat": 4,
 "nbformat_minor": 2
}
