{
 "cells": [
  {
   "cell_type": "code",
   "execution_count": 68,
   "metadata": {},
   "outputs": [],
   "source": [
    "from pyspark import SparkContext\n",
    "from pyspark.sql import SparkSession, SQLContext\n",
    "from pyspark.sql.functions import row_number, desc, col\n",
    "import pyspark.sql.functions as F\n",
    "from pyspark.sql.window import Window\n",
    "\n",
    "def read_data_to_df():\n",
    "    db_properties = {}\n",
    "    # update your db username\n",
    "    db_properties['username'] = \"postgres\"\n",
    "    # update your db password\n",
    "    db_properties['password'] = \"root\"\n",
    "    # make sure you got the right port number here\n",
    "    db_properties['url'] = \"jdbc:postgresql://localhost:5432/postgres\"\n",
    "    # make sure you had the Postgres JAR file in the right location\n",
    "    db_properties['driver'] = \"org.postgresql.Driver\"\n",
    "    db_properties['table'] = \"fifa\"\n",
    "\n",
    "    sc = SparkContext.getOrCreate()\n",
    "    sqlContext = SQLContext(sc)\n",
    "\n",
    "    df_read = sqlContext.read.format(\"jdbc\")\\\n",
    "        .option(\"url\", db_properties['url'])\\\n",
    "        .option(\"dbtable\", db_properties['table'])\\\n",
    "        .option(\"user\", db_properties['username'])\\\n",
    "        .option(\"password\", db_properties['password'])\\\n",
    "        .option(\"Driver\", db_properties['driver'])\\\n",
    "        .load()\n",
    "\n",
    "    # df_read.show(1, vertical=True)\n",
    "    return df_read"
   ]
  },
  {
   "cell_type": "code",
   "execution_count": 69,
   "metadata": {},
   "outputs": [],
   "source": [
    "def x_clubs_with_highest_players_ending_in_2023(df, x):\n",
    "  print(\n",
    "      f'What are the {x} clubs that have the highest number of players with contracts ending in 2023?')\n",
    "  df.where((df.year == 2022) & (df.club_contract_valid_until == 2023)).groupBy(\n",
    "      'club_name').count().orderBy('count', ascending=False).show(x)"
   ]
  },
  {
   "cell_type": "code",
   "execution_count": 70,
   "metadata": {},
   "outputs": [],
   "source": [
    "def y_clubs_with_highest_average_players_older_27(df, y):\n",
    "  print(\n",
    "      f'List the {y} clubs with highest average number of players that are older than 27 years across all years')\n",
    "  df.where((df.age > 27) & (df.club_name != 'null')).groupBy(\n",
    "      'club_name').count().withColumn('average', col('count') / 8).orderBy('average', ascending=False).show(y)\n"
   ]
  },
  {
   "cell_type": "code",
   "execution_count": 71,
   "metadata": {},
   "outputs": [],
   "source": [
    "def most_frequent_nation_position_each_year(df):\n",
    "  print('What is the most frequent position for each nation in each year?')\n",
    "  grouped = df.where(df.nation_position != 'null').groupby(\n",
    "      'nation_position', 'year').count()\n",
    "  window = Window.partitionBy(\"year\").orderBy(desc(\"count\"))\n",
    "  grouped.withColumn('rank', row_number().over(window)\n",
    "                     ).where(col('rank') == 1).show()\n"
   ]
  },
  {
   "cell_type": "code",
   "execution_count": 72,
   "metadata": {},
   "outputs": [],
   "source": [
    "def analyze_data(x, y):\n",
    "    df = read_data_to_df()\n",
    "    x_clubs_with_highest_players_ending_in_2023(df, x)\n",
    "    y_clubs_with_highest_average_players_older_27(df, y)\n",
    "    most_frequent_nation_position_each_year(df)"
   ]
  },
  {
   "cell_type": "code",
   "execution_count": 73,
   "metadata": {},
   "outputs": [
    {
     "name": "stdout",
     "output_type": "stream",
     "text": [
      "What are the 5 clubs that have the highest number of players with contracts ending in 2023?\n"
     ]
    },
    {
     "name": "stderr",
     "output_type": "stream",
     "text": [
      "                                                                                \r"
     ]
    },
    {
     "name": "stdout",
     "output_type": "stream",
     "text": [
      "+--------------------+-----+\n",
      "|           club_name|count|\n",
      "+--------------------+-----+\n",
      "|En Avant de Guingamp|   19|\n",
      "| Club Atlético Lanús|   17|\n",
      "|       Lechia Gdańsk|   17|\n",
      "|            Barnsley|   16|\n",
      "|        Kasimpaşa SK|   16|\n",
      "+--------------------+-----+\n",
      "only showing top 5 rows\n",
      "\n",
      "List the 5 clubs with highest average number of players that are older than 27 years across all years\n"
     ]
    },
    {
     "name": "stderr",
     "output_type": "stream",
     "text": [
      "                                                                                \r"
     ]
    },
    {
     "name": "stdout",
     "output_type": "stream",
     "text": [
      "+--------------------+-----+-------+\n",
      "|           club_name|count|average|\n",
      "+--------------------+-----+-------+\n",
      "|İstanbul Başakşeh...|  133| 16.625|\n",
      "|Jeonbuk Hyundai M...|  118|  14.75|\n",
      "| FC Lokomotiv Moscow|  108|   13.5|\n",
      "|      Crystal Palace|  106|  13.25|\n",
      "|       Fenerbahçe SK|  105| 13.125|\n",
      "+--------------------+-----+-------+\n",
      "only showing top 5 rows\n",
      "\n",
      "What is the most frequent position for each nation in each year?\n",
      "+---------------+----+-----+----+\n",
      "|nation_position|year|count|rank|\n",
      "+---------------+----+-----+----+\n",
      "|            SUB|2015|  564|   1|\n",
      "|            SUB|2016|  511|   1|\n",
      "|            SUB|2017|  564|   1|\n",
      "|            SUB|2018|  600|   1|\n",
      "|            SUB|2019|  576|   1|\n",
      "|            SUB|2020|  588|   1|\n",
      "|            SUB|2021|  588|   1|\n",
      "|            SUB|2022|  396|   1|\n",
      "+---------------+----+-----+----+\n",
      "\n"
     ]
    }
   ],
   "source": [
    "analyze_data(5, 5)"
   ]
  }
 ],
 "metadata": {
  "kernelspec": {
   "display_name": "Python 3.10.3 64-bit ('3.10.3')",
   "language": "python",
   "name": "python3"
  },
  "language_info": {
   "codemirror_mode": {
    "name": "ipython",
    "version": 3
   },
   "file_extension": ".py",
   "mimetype": "text/x-python",
   "name": "python",
   "nbconvert_exporter": "python",
   "pygments_lexer": "ipython3",
   "version": "3.10.3"
  },
  "orig_nbformat": 4,
  "vscode": {
   "interpreter": {
    "hash": "9200d36d0ce8b1f7328bad6700195a3ffc7c26271171417882fb1808e430d718"
   }
  }
 },
 "nbformat": 4,
 "nbformat_minor": 2
}
